{
 "cells": [
  {
   "cell_type": "code",
   "execution_count": 1,
   "id": "0971d537-2f69-4589-b6b7-7fe56947d160",
   "metadata": {},
   "outputs": [],
   "source": [
    "\n",
    "# Get the input String:\n",
    "\n",
    "string = 'Sanjay 212221230086'\n"
   ]
  },
  {
   "cell_type": "code",
   "execution_count": 2,
   "id": "a028d21f-20ab-4067-84e1-c2cdae507f99",
   "metadata": {},
   "outputs": [],
   "source": [
    "\n",
    "# Create tree nodes:\n",
    "\n",
    "class NodeTree(object):\n",
    "    \n",
    "    def __init__(self, left=None, right=None): \n",
    "        self.left = left\n",
    "        self.right=right\n",
    "        \n",
    "    def children(self):\n",
    "        return (self.left,self.right)\n"
   ]
  },
  {
   "cell_type": "code",
   "execution_count": 3,
   "id": "404755eb-d4ec-48ac-a152-57b0ac26b25a",
   "metadata": {},
   "outputs": [],
   "source": [
    "\n",
    "# Main function to implement huffman coding:\n",
    "\n",
    "def huffman_code_tree (node, left=True, binString=''):\n",
    "    if type(node) is str:\n",
    "        return {node: binString}\n",
    "    (l, r) = node.children()\n",
    "    d = dict()\n",
    "    d.update(huffman_code_tree (l, True, binString + '0'))\n",
    "    d.update(huffman_code_tree (r, False, binString + '1'))\n",
    "    return d\n"
   ]
  },
  {
   "cell_type": "code",
   "execution_count": 4,
   "id": "ca8c05ac-91f3-4d6f-bf30-4a830821016f",
   "metadata": {},
   "outputs": [],
   "source": [
    "\n",
    "# Calculate frequency:\n",
    "\n",
    "freq = {}\n",
    "for c in string:\n",
    "    if c in freq:\n",
    "        freq[c] += 1\n",
    "    else:\n",
    "        freq[c] = 1\n",
    "        \n",
    "freq = sorted(freq.items(), key=lambda x: x[1], reverse=True)\n",
    "\n",
    "nodes = freq\n"
   ]
  },
  {
   "cell_type": "code",
   "execution_count": 5,
   "id": "345104c7-642a-42e4-865b-1c6b9c18322d",
   "metadata": {},
   "outputs": [],
   "source": [
    "\n",
    "# Calculating frequency of occurence:\n",
    "\n",
    "while len(nodes)>1:\n",
    "    (key1,c1)=nodes[-1]\n",
    "    (key2,c2)=nodes[-2]\n",
    "    nodes = nodes[:-2]\n",
    "    node = NodeTree (key1, key2)\n",
    "    nodes.append((node,c1 + c2))\n",
    "    \n",
    "    nodes = sorted (nodes, key=lambda x: x[1], reverse=True)\n"
   ]
  },
  {
   "cell_type": "code",
   "execution_count": 6,
   "id": "29060f9e-2c79-4ec2-b9d4-356a4c5e14e4",
   "metadata": {},
   "outputs": [
    {
     "name": "stdout",
     "output_type": "stream",
     "text": [
      "^*^*^*^*^*^*^*^*^*^*^*^\n",
      " Char | Huffman code \n",
      "^*^*^*^*^*^*^*^*^*^*^*^\n",
      "'2'  |          10\n",
      "'a'  |         110\n",
      "'1'  |        1111\n",
      "'0'  |        1110\n",
      "'S'  |        0101\n",
      "'n'  |        0100\n",
      "'j'  |        0111\n",
      "'y'  |        0110\n",
      "' '  |        0001\n",
      "'3'  |        0000\n",
      "'8'  |        0011\n",
      "'6'  |        0010\n"
     ]
    }
   ],
   "source": [
    "\n",
    "# Print the characters and its huffmancode:\n",
    "\n",
    "huffmanCode = huffman_code_tree(nodes[0][0])\n",
    "print('^*^*^*^*^*^*^*^*^*^*^*^')\n",
    "print(' Char | Huffman code ') \n",
    "print('^*^*^*^*^*^*^*^*^*^*^*^')\n",
    "for (char, frequency) in freq:\n",
    "    print('%-4r |%12s' %(char,huffmanCode[char]))\n"
   ]
  },
  {
   "cell_type": "code",
   "execution_count": null,
   "id": "63adb282-676a-4964-aece-df8a8b69a13d",
   "metadata": {},
   "outputs": [],
   "source": []
  }
 ],
 "metadata": {
  "kernelspec": {
   "display_name": "Python 3 (ipykernel)",
   "language": "python",
   "name": "python3"
  },
  "language_info": {
   "codemirror_mode": {
    "name": "ipython",
    "version": 3
   },
   "file_extension": ".py",
   "mimetype": "text/x-python",
   "name": "python",
   "nbconvert_exporter": "python",
   "pygments_lexer": "ipython3",
   "version": "3.9.13"
  }
 },
 "nbformat": 4,
 "nbformat_minor": 5
}
